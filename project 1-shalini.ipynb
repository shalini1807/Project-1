{
 "cells": [
  {
   "cell_type": "code",
   "execution_count": 2,
   "id": "661a56a4",
   "metadata": {},
   "outputs": [],
   "source": [
    "# Dependencies and Setup\n",
    "import matplotlib.pyplot as plt\n",
    "import pandas as pd\n",
    "import numpy as np\n",
    "import requests\n",
    "import time\n",
    "from pprint import pprint\n",
    "from scipy.stats import linregress\n",
    "from datetime import datetime\n",
    "\n",
    "%matplotlib inline\n",
    "\n",
    "# Impor the OpenWeatherMap API key\n",
    "from config import api_key\n"
   ]
  },
  {
   "cell_type": "code",
   "execution_count": 4,
   "id": "4aa6118d",
   "metadata": {},
   "outputs": [
    {
     "name": "stdout",
     "output_type": "stream",
     "text": [
      "Processing TAN\n",
      "{'Information': 'Thank you for using Alpha Vantage! Our standard API rate limit is 25 requests per day. Please subscribe to any of the premium plans at https://www.alphavantage.co/premium/ to instantly remove all daily rate limits.'}\n"
     ]
    },
    {
     "ename": "KeyError",
     "evalue": "'Monthly Time Series'",
     "output_type": "error",
     "traceback": [
      "\u001b[1;31m---------------------------------------------------------------------------\u001b[0m",
      "\u001b[1;31mKeyError\u001b[0m                                  Traceback (most recent call last)",
      "Cell \u001b[1;32mIn[4], line 29\u001b[0m\n\u001b[0;32m     25\u001b[0m \u001b[38;5;28mprint\u001b[39m(result_data)\n\u001b[0;32m     27\u001b[0m time\u001b[38;5;241m.\u001b[39msleep(\u001b[38;5;241m1\u001b[39m)\n\u001b[1;32m---> 29\u001b[0m \u001b[38;5;28;01mfor\u001b[39;00m monthly \u001b[38;5;129;01min\u001b[39;00m \u001b[43mresult_data\u001b[49m\u001b[43m[\u001b[49m\u001b[38;5;124;43m\"\u001b[39;49m\u001b[38;5;124;43mMonthly Time Series\u001b[39;49m\u001b[38;5;124;43m\"\u001b[39;49m\u001b[43m]\u001b[49m:\n\u001b[0;32m     30\u001b[0m     monthly_date \u001b[38;5;241m=\u001b[39m time\u001b[38;5;241m.\u001b[39mstrptime(monthly, \u001b[38;5;124m\"\u001b[39m\u001b[38;5;124m%\u001b[39m\u001b[38;5;124mY-\u001b[39m\u001b[38;5;124m%\u001b[39m\u001b[38;5;124mm-\u001b[39m\u001b[38;5;132;01m%d\u001b[39;00m\u001b[38;5;124m\"\u001b[39m)\n\u001b[0;32m     31\u001b[0m     oldest \u001b[38;5;241m=\u001b[39m time\u001b[38;5;241m.\u001b[39mstrptime(oldest_date, \u001b[38;5;124m\"\u001b[39m\u001b[38;5;124m%\u001b[39m\u001b[38;5;124mY-\u001b[39m\u001b[38;5;124m%\u001b[39m\u001b[38;5;124mm-\u001b[39m\u001b[38;5;132;01m%d\u001b[39;00m\u001b[38;5;124m\"\u001b[39m)\n",
      "\u001b[1;31mKeyError\u001b[0m: 'Monthly Time Series'"
     ]
    }
   ],
   "source": [
    "#Variables used in API call, oldest date is furthest back we are willing to go\n",
    "oldest_date = \"2014-01-31\"\n",
    "company_symbols = [\"TAN\",\n",
    "                    \"ENPH\",\n",
    "                    \"SEDG\",\n",
    "                    \"FSLR\",\n",
    "                    \"HYDR\",\n",
    "                    \"PLUG\",\n",
    "                    \"BLDP\",\n",
    "                    \"BE\",\n",
    "                    \"FAN\",\n",
    "                    \"TAC\",\n",
    "                    \"TPIC\",\n",
    "                    \"AMSC\"]\n",
    "time_function = \"TIME_SERIES_MONTHLY\"\n",
    "base_url = \"https://www.alphavantage.co/query?\"\n",
    "\n",
    "company_data = []\n",
    "\n",
    "for symbol in company_symbols:\n",
    "    finished_url = f\"{base_url}function={time_function}&symbol={symbol}&apikey={api_key}\"\n",
    "    print(f\"Processing {symbol}\")\n",
    "\n",
    "    result_data = requests.get(finished_url).json()\n",
    "    print(result_data)\n",
    "\n",
    "    time.sleep(1)\n",
    "\n",
    "    for monthly in result_data[\"Monthly Time Series\"]:\n",
    "        monthly_date = time.strptime(monthly, \"%Y-%m-%d\")\n",
    "        oldest = time.strptime(oldest_date, \"%Y-%m-%d\")\n",
    "        if (monthly_date < oldest):\n",
    "            continue\n",
    "        stock_date = monthly\n",
    "        stock_close = result_data[\"Monthly Time Series\"][monthly][\"4. close\"]\n",
    "        company_data.append({\"Symbol\":symbol,\n",
    "                            \"Date\":stock_date,\n",
    "                            \"Closing Price\":stock_close})\n",
    "\n",
    "company_data_df = pd.DataFrame(company_data)\n",
    "company_data_df\n"
   ]
  },
  {
   "cell_type": "code",
   "execution_count": 6,
   "id": "eee8f675",
   "metadata": {},
   "outputs": [
    {
     "data": {
      "text/html": [
       "<div>\n",
       "<style scoped>\n",
       "    .dataframe tbody tr th:only-of-type {\n",
       "        vertical-align: middle;\n",
       "    }\n",
       "\n",
       "    .dataframe tbody tr th {\n",
       "        vertical-align: top;\n",
       "    }\n",
       "\n",
       "    .dataframe thead th {\n",
       "        text-align: right;\n",
       "    }\n",
       "</style>\n",
       "<table border=\"1\" class=\"dataframe\">\n",
       "  <thead>\n",
       "    <tr style=\"text-align: right;\">\n",
       "      <th></th>\n",
       "      <th>Symbol</th>\n",
       "      <th>Date</th>\n",
       "      <th>Closing Price</th>\n",
       "      <th>Type</th>\n",
       "    </tr>\n",
       "    <tr>\n",
       "      <th>Stock_ID</th>\n",
       "      <th></th>\n",
       "      <th></th>\n",
       "      <th></th>\n",
       "      <th></th>\n",
       "    </tr>\n",
       "  </thead>\n",
       "  <tbody>\n",
       "    <tr>\n",
       "      <th>1355</th>\n",
       "      <td>AMSC</td>\n",
       "      <td>2014-01-31</td>\n",
       "      <td>1.50</td>\n",
       "      <td>Wind</td>\n",
       "    </tr>\n",
       "    <tr>\n",
       "      <th>1354</th>\n",
       "      <td>AMSC</td>\n",
       "      <td>2014-02-28</td>\n",
       "      <td>1.85</td>\n",
       "      <td>Wind</td>\n",
       "    </tr>\n",
       "    <tr>\n",
       "      <th>1353</th>\n",
       "      <td>AMSC</td>\n",
       "      <td>2014-03-31</td>\n",
       "      <td>1.61</td>\n",
       "      <td>Wind</td>\n",
       "    </tr>\n",
       "    <tr>\n",
       "      <th>1352</th>\n",
       "      <td>AMSC</td>\n",
       "      <td>2014-04-30</td>\n",
       "      <td>1.28</td>\n",
       "      <td>Wind</td>\n",
       "    </tr>\n",
       "    <tr>\n",
       "      <th>1351</th>\n",
       "      <td>AMSC</td>\n",
       "      <td>2014-05-30</td>\n",
       "      <td>1.40</td>\n",
       "      <td>Wind</td>\n",
       "    </tr>\n",
       "    <tr>\n",
       "      <th>...</th>\n",
       "      <td>...</td>\n",
       "      <td>...</td>\n",
       "      <td>...</td>\n",
       "      <td>...</td>\n",
       "    </tr>\n",
       "    <tr>\n",
       "      <th>1133</th>\n",
       "      <td>TPIC</td>\n",
       "      <td>2024-05-31</td>\n",
       "      <td>5.48</td>\n",
       "      <td>Wind</td>\n",
       "    </tr>\n",
       "    <tr>\n",
       "      <th>1132</th>\n",
       "      <td>TPIC</td>\n",
       "      <td>2024-06-28</td>\n",
       "      <td>3.99</td>\n",
       "      <td>Wind</td>\n",
       "    </tr>\n",
       "    <tr>\n",
       "      <th>1131</th>\n",
       "      <td>TPIC</td>\n",
       "      <td>2024-07-31</td>\n",
       "      <td>4.26</td>\n",
       "      <td>Wind</td>\n",
       "    </tr>\n",
       "    <tr>\n",
       "      <th>1130</th>\n",
       "      <td>TPIC</td>\n",
       "      <td>2024-08-30</td>\n",
       "      <td>4.33</td>\n",
       "      <td>Wind</td>\n",
       "    </tr>\n",
       "    <tr>\n",
       "      <th>1129</th>\n",
       "      <td>TPIC</td>\n",
       "      <td>2024-09-18</td>\n",
       "      <td>4.37</td>\n",
       "      <td>Wind</td>\n",
       "    </tr>\n",
       "  </tbody>\n",
       "</table>\n",
       "<p>1356 rows × 4 columns</p>\n",
       "</div>"
      ],
      "text/plain": [
       "         Symbol        Date  Closing Price  Type\n",
       "Stock_ID                                        \n",
       "1355       AMSC  2014-01-31           1.50  Wind\n",
       "1354       AMSC  2014-02-28           1.85  Wind\n",
       "1353       AMSC  2014-03-31           1.61  Wind\n",
       "1352       AMSC  2014-04-30           1.28  Wind\n",
       "1351       AMSC  2014-05-30           1.40  Wind\n",
       "...         ...         ...            ...   ...\n",
       "1133       TPIC  2024-05-31           5.48  Wind\n",
       "1132       TPIC  2024-06-28           3.99  Wind\n",
       "1131       TPIC  2024-07-31           4.26  Wind\n",
       "1130       TPIC  2024-08-30           4.33  Wind\n",
       "1129       TPIC  2024-09-18           4.37  Wind\n",
       "\n",
       "[1356 rows x 4 columns]"
      ]
     },
     "execution_count": 6,
     "metadata": {},
     "output_type": "execute_result"
    }
   ],
   "source": [
    "#Read data from the saved CSV file and sort it by symbol and date\n",
    "read_data_df = pd.read_csv(\"data/company_data.csv\", index_col=\"Stock_ID\")\n",
    "ordered_data_df = read_data_df.sort_values(by=[\"Symbol\", \"Date\"])\n",
    "ordered_data_df"
   ]
  },
  {
   "cell_type": "code",
   "execution_count": 13,
   "id": "16819748",
   "metadata": {},
   "outputs": [
    {
     "name": "stdout",
     "output_type": "stream",
     "text": [
      "       Type    Return\n",
      "0  Hydrogen  0.277191\n",
      "1     Solar  0.181030\n",
      "2      Wind  0.342261\n"
     ]
    }
   ],
   "source": [
    "# Ensure the 'Date' column is in datetime format\n",
    "read_data_df['Date'] = pd.to_datetime(read_data_df['Date'])\n",
    "# Sort the data by Symbol and Date\n",
    "ordered_data_df = read_data_df.sort_values(by=[\"Symbol\", \"Date\"])\n",
    "\n",
    "# Calculate daily returns\n",
    "ordered_data_df['Return'] = ordered_data_df.groupby('Symbol')['Closing Price'].pct_change()\n",
    "\n",
    "# Calculate volatility (standard deviation of returns) for each sector/type\n",
    "volatility_df = ordered_data_df.groupby('Type')['Return'].std().reset_index()\n",
    "print(volatility_df)\n",
    "\n",
    "# Rename the columns for clarity\n",
    "volatility_df.columns = ['Type', 'Volatility']\n",
    "\n"
   ]
  },
  {
   "cell_type": "code",
   "execution_count": 15,
   "id": "db5dab7f",
   "metadata": {},
   "outputs": [
    {
     "data": {
      "image/png": "[encoded data removed]",
      "text/plain": [
       "<Figure size 1400x800 with 1 Axes>"
      ]
     },
     "metadata": {},
     "output_type": "display_data"
    }
   ],
   "source": [
    "# Plotting\n",
    "plt.figure(figsize=(14, 8))\n",
    "plt.barh(volatility_df['Type'], volatility_df['Volatility'], color='skyblue')\n",
    "plt.xlabel('Volatility (Standard Deviation of Returns)')\n",
    "plt.title('Stock Price Volatility by Sector/Type Over the Past 10 Years')\n",
    "plt.grid(axis='x')\n",
    "plt.show()\n"
   ]
  },
  {
   "cell_type": "code",
   "execution_count": null,
   "id": "6a4f225b",
   "metadata": {},
   "outputs": [],
   "source": []
  }
 ],
 "metadata": {
  "kernelspec": {
   "display_name": "Python 3 (ipykernel)",
   "language": "python",
   "name": "python3"
  },
  "language_info": {
   "codemirror_mode": {
    "name": "ipython",
    "version": 3
   },
   "file_extension": ".py",
   "mimetype": "text/x-python",
   "name": "python",
   "nbconvert_exporter": "python",
   "pygments_lexer": "ipython3",
   "version": "3.10.14"
  }
 },
 "nbformat": 4,
 "nbformat_minor": 5
}
