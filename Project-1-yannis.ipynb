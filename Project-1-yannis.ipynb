{
 "cells": [
  {
   "cell_type": "code",
   "execution_count": 1,
   "metadata": {},
   "outputs": [],
   "source": [
    "# Dependencies and Setup\n",
    "import matplotlib.pyplot as plt\n",
    "import pandas as pd\n",
    "import numpy as np\n",
    "import requests\n",
    "import time\n",
    "from pprint import pprint\n",
    "from scipy.stats import linregress\n",
    "from datetime import datetime\n",
    "\n",
    "%matplotlib inline\n",
    "\n",
    "# Impor the OpenWeatherMap API key\n",
    "from config import api_key"
   ]
  },
  {
   "cell_type": "code",
   "execution_count": null,
   "metadata": {},
   "outputs": [],
   "source": [
    "#Variables used in API call, oldest date is furthest back we are willing to go\n",
    "oldest_date = \"2014-01-31\"\n",
    "company_symbols = [\"TAN\",\n",
    "                    \"ENPH\",\n",
    "                    \"SEDG\",\n",
    "                    \"FSLR\",\n",
    "                    \"HYDR\",\n",
    "                    \"PLUG\",\n",
    "                    \"BLDP\",\n",
    "                    \"BE\",\n",
    "                    \"FAN\",\n",
    "                    \"TAC\",\n",
    "                    \"TPIC\",\n",
    "                    \"AMSC\"]\n",
    "time_function = \"TIME_SERIES_MONTHLY\"\n",
    "base_url = \"https://www.alphavantage.co/query?\"\n",
    "\n",
    "company_data = []\n",
    "\n",
    "for symbol in company_symbols:\n",
    "    finished_url = f\"{base_url}function={time_function}&symbol={symbol}&apikey={api_key}\"\n",
    "    print(f\"Processing {symbol}\")\n",
    "\n",
    "    result_data = requests.get(finished_url).json()\n",
    "\n",
    "    time.sleep(1)\n",
    "\n",
    "    for monthly in result_data[\"Monthly Time Series\"]:\n",
    "        monthly_date = time.strptime(monthly, \"%Y-%m-%d\")\n",
    "        oldest = time.strptime(oldest_date, \"%Y-%m-%d\")\n",
    "        if (monthly_date < oldest):\n",
    "            continue\n",
    "        stock_date = monthly\n",
    "        stock_close = result_data[\"Monthly Time Series\"][monthly][\"4. close\"]\n",
    "        company_data.append({\"Symbol\":symbol,\n",
    "                            \"Date\":stock_date,\n",
    "                            \"Closing Price\":stock_close})\n",
    "\n",
    "company_data_df = pd.DataFrame(company_data)\n",
    "company_data_df\n"
   ]
  },
  {
   "cell_type": "code",
   "execution_count": 14,
   "metadata": {},
   "outputs": [],
   "source": [
    "#Add a type column and lable to each stock\n",
    "company_data_df[\"Type\"] = \"\"\n",
    "company_data_df[\"Type\"] = np.where(company_data_df[\"Symbol\"] == \"TAN\", \"Solar\", company_data_df[\"Type\"])\n",
    "company_data_df[\"Type\"] = np.where(company_data_df[\"Symbol\"] == \"ENPH\", \"Solar\", company_data_df[\"Type\"])\n",
    "company_data_df[\"Type\"] = np.where(company_data_df[\"Symbol\"] == \"SEDG\", \"Solar\", company_data_df[\"Type\"])\n",
    "company_data_df[\"Type\"] = np.where(company_data_df[\"Symbol\"] == \"FSLR\", \"Solar\", company_data_df[\"Type\"])\n",
    "\n",
    "company_data_df[\"Type\"] = np.where(company_data_df[\"Symbol\"] == \"HYDR\", \"Hydrogen\", company_data_df[\"Type\"])\n",
    "company_data_df[\"Type\"] = np.where(company_data_df[\"Symbol\"] == \"PLUG\", \"Hydrogen\", company_data_df[\"Type\"])\n",
    "company_data_df[\"Type\"] = np.where(company_data_df[\"Symbol\"] == \"BLDP\", \"Hydrogen\", company_data_df[\"Type\"])\n",
    "company_data_df[\"Type\"] = np.where(company_data_df[\"Symbol\"] == \"BE\", \"Hydrogen\", company_data_df[\"Type\"])\n",
    "\n",
    "company_data_df[\"Type\"] = np.where(company_data_df[\"Symbol\"] == \"FAN\", \"Wind\", company_data_df[\"Type\"])\n",
    "company_data_df[\"Type\"] = np.where(company_data_df[\"Symbol\"] == \"TAC\", \"Wind\", company_data_df[\"Type\"])\n",
    "company_data_df[\"Type\"] = np.where(company_data_df[\"Symbol\"] == \"TPIC\", \"Wind\", company_data_df[\"Type\"])\n",
    "company_data_df[\"Type\"] = np.where(company_data_df[\"Symbol\"] == \"AMSC\", \"Wind\", company_data_df[\"Type\"])\n",
    "\n",
    "#Save the Data pulled to a CSV file\n",
    "company_data_df.to_csv(\"data/company_data.csv\", index_label=\"Stock_ID\")"
   ]
  },
  {
   "cell_type": "code",
   "execution_count": null,
   "metadata": {},
   "outputs": [],
   "source": [
    "#Read data from the saved CSV file and sort it by symbol and date\n",
    "read_data_df = pd.read_csv(\"data/company_data.csv\", index_col=\"Stock_ID\")\n",
    "ordered_data_df = read_data_df.sort_values(by=[\"Symbol\", \"Date\"])\n",
    "ordered_data_df"
   ]
  },
  {
   "cell_type": "code",
   "execution_count": 16,
   "metadata": {},
   "outputs": [],
   "source": [
    "#Function to plot graphs showing stock prices\n",
    "def plot_stock_prices(symbols,given_data_df,type):\n",
    "    plt.figure(figsize=(14, 6))\n",
    "\n",
    "    for symbol in symbols:\n",
    "        stock_data = given_data_df[given_data_df[\"Symbol\"] == symbol]\n",
    "        plt.plot(stock_data[\"Date\"], stock_data[\"Closing Price\"], label=symbol)\n",
    "\n",
    "    plt.title(f\"Stock Prices for {type} Companies\")\n",
    "    plt.xlabel(\"Date\")\n",
    "    plt.ylabel(\"Closing Price\")\n",
    "    plt.xticks(rotation=45)\n",
    "    plt.legend()\n",
    "    plt.tight_layout()\n",
    "    plt.show()"
   ]
  },
  {
   "cell_type": "code",
   "execution_count": 17,
   "metadata": {},
   "outputs": [],
   "source": [
    "#Function to plot graphs showing average yearly stock prices\n",
    "def plot_avg_prices(symbols,given_data_df,type):\n",
    "    plt.figure(figsize=(8, 6))\n",
    "\n",
    "    for symbol in symbols:\n",
    "        stock_data = given_data_df[given_data_df[\"Symbol\"] == symbol]\n",
    "        plt.plot(stock_data[\"Year\"], stock_data[\"Avg. Closing Price\"], label=symbol)\n",
    "\n",
    "    plt.title(f\"Avg. Yealy Stock Prices for {type} Companies\")\n",
    "    plt.xlabel(\"Year\")\n",
    "    plt.ylabel(\"Avg. Closing Price\")\n",
    "    plt.xticks(rotation=45)\n",
    "    plt.legend()\n",
    "    plt.tight_layout()\n",
    "    plt.show()"
   ]
  },
  {
   "cell_type": "code",
   "execution_count": 18,
   "metadata": {},
   "outputs": [],
   "source": [
    "#Function to plot graphs showing max yearly stock prices\n",
    "def plot_max_prices(symbols,given_data_df,type):\n",
    "    plt.figure(figsize=(8, 6))\n",
    "\n",
    "    for symbol in symbols:\n",
    "        stock_data = given_data_df[given_data_df[\"Symbol\"] == symbol]\n",
    "        plt.plot(stock_data[\"Year\"], stock_data[\"Max Closing Price\"], label=symbol)\n",
    "\n",
    "    plt.title(f\"Max Yealy Stock Prices for {type} Companies\")\n",
    "    plt.xlabel(\"Year\")\n",
    "    plt.ylabel(\"Max Closing Price\")\n",
    "    plt.xticks(rotation=45)\n",
    "    plt.legend()\n",
    "    plt.tight_layout()\n",
    "    plt.show()"
   ]
  },
  {
   "cell_type": "code",
   "execution_count": null,
   "metadata": {},
   "outputs": [],
   "source": [
    "# Plot Stocks\n",
    "solar_symbols = [\"TAN\", \"ENPH\", \"SEDG\", \"FSLR\"]\n",
    "hydrogen_symbols = [\"BLDP\", \"PLUG\", \"BE\", \"HYDR\"]\n",
    "wind_symbols = [\"FAN\", \"TAC\", \"TPIC\", \"AMSC\"]\n",
    "\n",
    "plot_stock_prices(solar_symbols,ordered_data_df,\"Solar\")\n",
    "plot_stock_prices(hydrogen_symbols,ordered_data_df,\"Hydrogen\")\n",
    "plot_stock_prices(wind_symbols,ordered_data_df,\"Wind\")"
   ]
  },
  {
   "cell_type": "code",
   "execution_count": null,
   "metadata": {},
   "outputs": [],
   "source": [
    "#Yearly Average stock price\n",
    "yearly_average = []\n",
    "for symbol in company_symbols:\n",
    "    starting_year = int(ordered_data_df[ordered_data_df[\"Symbol\"] == symbol][\"Date\"].str.extract(r\"(\\d{4})\").iloc[0,0])\n",
    "    for year in range(starting_year, 2025):\n",
    "        years = ordered_data_df[\"Date\"].str.extract(r\"(\\d{4})\")[0]\n",
    "        average = ordered_data_df.loc[(ordered_data_df[\"Symbol\"] == symbol) & (years == str(year)), \"Closing Price\"].mean()\n",
    "        yearly_average.append({\"Symbol\":symbol,\n",
    "                                \"Year\":year,\n",
    "                                \"Avg. Closing Price\":average,\n",
    "                                \"Type\":ordered_data_df.loc[ordered_data_df[\"Symbol\"] == symbol,\"Type\"].iloc[0]})\n",
    "\n",
    "yearly_average_df = pd.DataFrame(yearly_average)\n",
    "yearly_average_df  "
   ]
  },
  {
   "cell_type": "code",
   "execution_count": null,
   "metadata": {},
   "outputs": [],
   "source": [
    "#Yearly max stock price\n",
    "yearly_max = []\n",
    "for symbol in company_symbols:\n",
    "    starting_year = int(ordered_data_df[ordered_data_df[\"Symbol\"] == symbol][\"Date\"].str.extract(r\"(\\d{4})\").iloc[0,0])\n",
    "    for year in range(starting_year, 2025):\n",
    "        years = ordered_data_df[\"Date\"].str.extract(r\"(\\d{4})\")[0]\n",
    "        max = ordered_data_df.loc[(ordered_data_df[\"Symbol\"] == symbol) & (years == str(year)), \"Closing Price\"].max()\n",
    "        yearly_max.append({\"Symbol\":symbol,\n",
    "                                \"Year\":year,\n",
    "                                \"Max Closing Price\":max,\n",
    "                                \"Type\":ordered_data_df.loc[ordered_data_df[\"Symbol\"] == symbol,\"Type\"].iloc[0]})\n",
    "\n",
    "yearly_max_df = pd.DataFrame(yearly_max)\n",
    "yearly_max_df"
   ]
  },
  {
   "cell_type": "code",
   "execution_count": null,
   "metadata": {},
   "outputs": [],
   "source": [
    "#Plot Avg. Yearly Stock Prices\n",
    "plot_avg_prices(solar_symbols,yearly_average_df,\"Solar\")\n",
    "plot_avg_prices(hydrogen_symbols,yearly_average_df,\"Hydrogen\")\n",
    "plot_avg_prices(wind_symbols,yearly_average_df,\"Wind\")"
   ]
  },
  {
   "cell_type": "code",
   "execution_count": null,
   "metadata": {},
   "outputs": [],
   "source": [
    "#Plot Max Yearly Stock Prices\n",
    "plot_max_prices(solar_symbols,yearly_max_df,\"Solar\")\n",
    "plot_max_prices(hydrogen_symbols,yearly_max_df,\"Hydrogen\")\n",
    "plot_max_prices(wind_symbols,yearly_max_df,\"Wind\")"
   ]
  }
 ],
 "metadata": {
  "kernelspec": {
   "display_name": "base",
   "language": "python",
   "name": "python3"
  },
  "language_info": {
   "codemirror_mode": {
    "name": "ipython",
    "version": 3
   },
   "file_extension": ".py",
   "mimetype": "text/x-python",
   "name": "python",
   "nbconvert_exporter": "python",
   "pygments_lexer": "ipython3",
   "version": "3.10.14"
  }
 },
 "nbformat": 4,
 "nbformat_minor": 2
}
