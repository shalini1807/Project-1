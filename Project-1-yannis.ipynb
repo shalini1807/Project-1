{
 "cells": [
  {
   "cell_type": "code",
   "execution_count": 1,
   "metadata": {},
   "outputs": [],
   "source": [
    "# Dependencies and Setup\n",
    "import matplotlib.pyplot as plt\n",
    "import matplotlib.dates as mdates\n",
    "import pandas as pd\n",
    "import numpy as np\n",
    "import requests\n",
    "import time\n",
    "from pprint import pprint\n",
    "from scipy.stats import linregress\n",
    "from datetime import datetime\n",
    "\n",
    "%matplotlib inline\n",
    "\n",
    "# Impor the OpenWeatherMap API key\n",
    "from config import api_key"
   ]
  },
  {
   "cell_type": "code",
   "execution_count": null,
   "metadata": {},
   "outputs": [],
   "source": [
    "#Skip running this cell if your API limit is reached\n",
    "#Variables used in API call, oldest date is furthest back we are willing to go\n",
    "oldest_date = \"2014-01-31\"\n",
    "company_ticker = [\"TAN\", \"ENPH\", \"SEDG\", \"FSLR\", \"HYDR\", \"PLUG\", \"BLDP\", \"BE\", \"FAN\", \"TAC\", \"TPIC\", \"AMSC\"]\n",
    "time_function = \"TIME_SERIES_MONTHLY\"\n",
    "base_url = \"https://www.alphavantage.co/query?\"\n",
    "\n",
    "company_data = []\n",
    "\n",
    "for ticker in company_ticker:\n",
    "    finished_url = f\"{base_url}function={time_function}&symbol={ticker}&apikey={api_key}\"\n",
    "    print(f\"Processing {ticker}\")\n",
    "\n",
    "    result_data = requests.get(finished_url).json()\n",
    "\n",
    "    time.sleep(1)\n",
    "\n",
    "    for monthly in result_data[\"Monthly Time Series\"]:\n",
    "        monthly_date = time.strptime(monthly, \"%Y-%m-%d\")\n",
    "        oldest = time.strptime(oldest_date, \"%Y-%m-%d\")\n",
    "        if (monthly_date < oldest):\n",
    "            continue\n",
    "        stock_date = monthly\n",
    "        stock_close = result_data[\"Monthly Time Series\"][monthly][\"4. close\"]\n",
    "        company_data.append({\"Ticker\":ticker,\n",
    "                            \"Date\":stock_date,\n",
    "                            \"Closing Price\":stock_close})\n",
    "\n",
    "company_data_df = pd.DataFrame(company_data)\n",
    "company_data_df['Date'] = pd.to_datetime(company_data_df['Date'])\n",
    "company_data_df\n"
   ]
  },
  {
   "cell_type": "code",
   "execution_count": null,
   "metadata": {},
   "outputs": [],
   "source": [
    "#Skip running this cell if your API limit is reached\n",
    "#Add a type column and lable to each stock\n",
    "company_data_df[\"Type\"] = \"\"\n",
    "company_data_df[\"Type\"] = np.where(company_data_df[\"Ticker\"] == \"TAN\", \"Solar\", company_data_df[\"Type\"])\n",
    "company_data_df[\"Type\"] = np.where(company_data_df[\"Ticker\"] == \"ENPH\", \"Solar\", company_data_df[\"Type\"])\n",
    "company_data_df[\"Type\"] = np.where(company_data_df[\"Ticker\"] == \"SEDG\", \"Solar\", company_data_df[\"Type\"])\n",
    "company_data_df[\"Type\"] = np.where(company_data_df[\"Ticker\"] == \"FSLR\", \"Solar\", company_data_df[\"Type\"])\n",
    "\n",
    "company_data_df[\"Type\"] = np.where(company_data_df[\"Ticker\"] == \"HYDR\", \"Hydrogen\", company_data_df[\"Type\"])\n",
    "company_data_df[\"Type\"] = np.where(company_data_df[\"Ticker\"] == \"PLUG\", \"Hydrogen\", company_data_df[\"Type\"])\n",
    "company_data_df[\"Type\"] = np.where(company_data_df[\"Ticker\"] == \"BLDP\", \"Hydrogen\", company_data_df[\"Type\"])\n",
    "company_data_df[\"Type\"] = np.where(company_data_df[\"Ticker\"] == \"BE\", \"Hydrogen\", company_data_df[\"Type\"])\n",
    "\n",
    "company_data_df[\"Type\"] = np.where(company_data_df[\"Ticker\"] == \"FAN\", \"Wind\", company_data_df[\"Type\"])\n",
    "company_data_df[\"Type\"] = np.where(company_data_df[\"Ticker\"] == \"TAC\", \"Wind\", company_data_df[\"Type\"])\n",
    "company_data_df[\"Type\"] = np.where(company_data_df[\"Ticker\"] == \"TPIC\", \"Wind\", company_data_df[\"Type\"])\n",
    "company_data_df[\"Type\"] = np.where(company_data_df[\"Ticker\"] == \"AMSC\", \"Wind\", company_data_df[\"Type\"])\n",
    "\n",
    "#Save the Data pulled to a CSV file\n",
    "company_data_df.to_csv(\"data/company_data.csv\", index_label=\"Stock_ID\") #change stock id "
   ]
  },
  {
   "cell_type": "code",
   "execution_count": null,
   "metadata": {},
   "outputs": [],
   "source": [
    "#prep some lists for the later code to use\n",
    "company_ticker = [\"TAN\", \"ENPH\", \"SEDG\", \"FSLR\", \"HYDR\", \"PLUG\", \"BLDP\", \"BE\", \"FAN\", \"TAC\", \"TPIC\", \"AMSC\"]\n",
    "solar_tickers = [\"TAN\", \"ENPH\", \"SEDG\", \"FSLR\"]\n",
    "hydrogen_tickers = [\"BLDP\", \"PLUG\", \"BE\", \"HYDR\"]\n",
    "wind_tickers = [\"FAN\", \"TAC\", \"TPIC\", \"AMSC\"]\n",
    "year_list = [i for i in range(2014, 2025)]\n",
    "\n",
    "#Read data from the saved CSV file and sort it by Ticker and date\n",
    "read_data_df = pd.read_csv(\"data/company_data.csv\", index_col=\"Stock_ID\") #change stock id\n",
    "read_data_df['Date'] = pd.to_datetime(read_data_df['Date'])\n",
    "ordered_data_df = read_data_df.sort_values(by=[\"Ticker\", \"Date\"])\n",
    "ordered_data_df"
   ]
  },
  {
   "cell_type": "code",
   "execution_count": 3,
   "metadata": {},
   "outputs": [],
   "source": [
    "#Function to plot graphs showing stock prices\n",
    "def plot_stock_prices(tickers,given_data_df,type):\n",
    "    plt.figure(figsize=(8, 6))\n",
    "\n",
    "    for ticker in tickers:\n",
    "        stock_data = given_data_df[given_data_df[\"Ticker\"] == ticker]\n",
    "        plt.plot(stock_data[\"Date\"], stock_data[\"Closing Price\"], label=ticker)\n",
    "\n",
    "    plt.title(f\"Stock Prices for {type} Companies\")\n",
    "    plt.xlabel(\"Date\")\n",
    "    plt.ylabel(\"Closing Price\")\n",
    "    \n",
    "    plt.gca().xaxis.set_major_locator(mdates.YearLocator())  # Major ticks every year\n",
    "    plt.gca().xaxis.set_minor_locator(mdates.MonthLocator())  # Minor ticks every month\n",
    "    plt.gca().xaxis.set_major_formatter(mdates.DateFormatter('%Y'))  # Format as year\n",
    "    \n",
    "    plt.xticks(rotation=45)\n",
    "    plt.legend()\n",
    "    plt.tight_layout()\n",
    "    plt.savefig(f\"graphs/{type}-stocks.png\")\n",
    "    plt.show()"
   ]
  },
  {
   "cell_type": "code",
   "execution_count": 4,
   "metadata": {},
   "outputs": [],
   "source": [
    "#Function to plot graphs showing average yearly stock prices\n",
    "def plot_avg_prices(tickers,given_data_df,type):\n",
    "    plt.figure(figsize=(8, 6))\n",
    "\n",
    "    for ticker in tickers:\n",
    "        stock_data = given_data_df[given_data_df[\"Ticker\"] == ticker]\n",
    "        plt.plot(stock_data[\"Year\"], stock_data[\"Avg. Closing Price\"], label=ticker)\n",
    "\n",
    "    plt.title(f\"Avg. Yealy Stock Prices for {type} Companies\")\n",
    "    plt.xlabel(\"Year\")\n",
    "    plt.ylabel(\"Avg. Closing Price\")\n",
    "    plt.xticks(ticks=year_list, labels=[str(i) for i in year_list], rotation=45)\n",
    "    plt.legend()\n",
    "    plt.tight_layout()\n",
    "    plt.savefig(f\"graphs/{type}-avg-yearly-stocks.png\")\n",
    "    plt.show()"
   ]
  },
  {
   "cell_type": "code",
   "execution_count": 5,
   "metadata": {},
   "outputs": [],
   "source": [
    "#Function to plot graphs showing max yearly stock prices\n",
    "def plot_max_prices(tickers,given_data_df,type):\n",
    "    plt.figure(figsize=(8, 6))\n",
    "\n",
    "    for ticker in tickers:\n",
    "        stock_data = given_data_df[given_data_df[\"Ticker\"] == ticker]\n",
    "        plt.plot(stock_data[\"Year\"], stock_data[\"Max Closing Price\"], label=ticker)\n",
    "\n",
    "    plt.title(f\"Max Yealy Stock Prices for {type} Companies\")\n",
    "    plt.xlabel(\"Year\")\n",
    "    plt.ylabel(\"Max Closing Price\")\n",
    "    plt.xticks(ticks=year_list, labels=[str(i) for i in year_list], rotation=45)\n",
    "    plt.legend()\n",
    "    plt.tight_layout()\n",
    "    plt.savefig(f\"graphs/{type}-max-yearly-stocks.png\")\n",
    "    plt.show()"
   ]
  },
  {
   "cell_type": "code",
   "execution_count": 6,
   "metadata": {},
   "outputs": [],
   "source": [
    "#Function to plot graphs showing average yearly stock prices by company Sector\n",
    "def plot_avg_type_prices(types,given_data_df):\n",
    "    plt.figure(figsize=(8, 6))\n",
    "\n",
    "    for type in types:\n",
    "        stock_data = given_data_df[given_data_df[\"Type\"] == type]\n",
    "        plt.plot(stock_data[\"Year\"], stock_data[\"Avg. Closing Price\"], label=type)\n",
    "\n",
    "    plt.title(f\"Avg. Yealy Stock Prices by Sector\")\n",
    "    plt.xlabel(\"Year\")\n",
    "    plt.ylabel(\"Avg. Closing Price\")\n",
    "    plt.xticks(ticks=year_list, labels=[str(i) for i in year_list], rotation=45)\n",
    "    plt.legend()\n",
    "    plt.tight_layout()\n",
    "    plt.savefig(f\"graphs/sector-avg-yearly-stocks.png\")\n",
    "    plt.show()"
   ]
  },
  {
   "cell_type": "code",
   "execution_count": 7,
   "metadata": {},
   "outputs": [],
   "source": [
    "#Function to plot graphs showing max yearly stock prices by company Sector\n",
    "def plot_max_type_prices(types,given_data_df):\n",
    "    plt.figure(figsize=(8, 6))\n",
    "\n",
    "    for type in types:\n",
    "        stock_data = given_data_df[given_data_df[\"Type\"] == type]\n",
    "        plt.plot(stock_data[\"Year\"], stock_data[\"Max Closing Price\"], label=type)\n",
    "\n",
    "    plt.title(f\"Max Yealy Stock Prices by Sector\")\n",
    "    plt.xlabel(\"Year\")\n",
    "    plt.ylabel(\"Avg. Closing Price\")\n",
    "    plt.xticks(ticks=year_list, labels=[str(i) for i in year_list], rotation=45)\n",
    "    plt.legend()\n",
    "    plt.tight_layout()\n",
    "    plt.savefig(f\"graphs/sector-max-yearly-stocks.png\")\n",
    "    plt.show()"
   ]
  },
  {
   "cell_type": "code",
   "execution_count": null,
   "metadata": {},
   "outputs": [],
   "source": [
    "# Plot Stocks for each company\n",
    "plot_stock_prices(solar_tickers,ordered_data_df,\"Solar\")\n",
    "plot_stock_prices(hydrogen_tickers,ordered_data_df,\"Hydrogen\")\n",
    "plot_stock_prices(wind_tickers,ordered_data_df,\"Wind\")"
   ]
  },
  {
   "cell_type": "code",
   "execution_count": null,
   "metadata": {},
   "outputs": [],
   "source": [
    "#Yearly Average stock price for each company\n",
    "yearly_average = []\n",
    "for ticker in company_ticker:\n",
    "    starting_year = ordered_data_df[ordered_data_df[\"Ticker\"] == ticker][\"Date\"].min().strftime('%Y')\n",
    "    for year in range(int(starting_year), 2025):\n",
    "        years = ordered_data_df[\"Date\"].dt.strftime('%Y')\n",
    "        average = ordered_data_df.loc[(ordered_data_df[\"Ticker\"] == ticker) & (years == str(year)), \"Closing Price\"].mean()\n",
    "        yearly_average.append({\"Ticker\":ticker,\n",
    "                                \"Year\":year,\n",
    "                                \"Avg. Closing Price\":average,\n",
    "                                \"Type\":ordered_data_df.loc[ordered_data_df[\"Ticker\"] == ticker,\"Type\"].iloc[0]})\n",
    "\n",
    "yearly_average_df = pd.DataFrame(yearly_average)\n",
    "yearly_average_df  "
   ]
  },
  {
   "cell_type": "code",
   "execution_count": null,
   "metadata": {},
   "outputs": [],
   "source": [
    "#Yearly max stock price for each company\n",
    "yearly_max = []\n",
    "for ticker in company_ticker:\n",
    "    starting_year = ordered_data_df[ordered_data_df[\"Ticker\"] == ticker][\"Date\"].min().strftime('%Y')\n",
    "    for year in range(int(starting_year), 2025):\n",
    "        years = ordered_data_df[\"Date\"].dt.strftime('%Y')\n",
    "        max = ordered_data_df.loc[(ordered_data_df[\"Ticker\"] == ticker) & (years == str(year)), \"Closing Price\"].max()\n",
    "        yearly_max.append({\"Ticker\":ticker,\n",
    "                                \"Year\":year,\n",
    "                                \"Max Closing Price\":max,\n",
    "                                \"Type\":ordered_data_df.loc[ordered_data_df[\"Ticker\"] == ticker,\"Type\"].iloc[0]})\n",
    "\n",
    "yearly_max_df = pd.DataFrame(yearly_max)\n",
    "yearly_max_df"
   ]
  },
  {
   "cell_type": "code",
   "execution_count": null,
   "metadata": {},
   "outputs": [],
   "source": [
    "#Plot Avg. Yearly Stock Prices for each company\n",
    "plot_avg_prices(solar_tickers,yearly_average_df,\"Solar\")\n",
    "plot_avg_prices(hydrogen_tickers,yearly_average_df,\"Hydrogen\")\n",
    "plot_avg_prices(wind_tickers,yearly_average_df,\"Wind\")"
   ]
  },
  {
   "cell_type": "code",
   "execution_count": null,
   "metadata": {},
   "outputs": [],
   "source": [
    "#Plot Max Yearly Stock Prices for each company\n",
    "plot_max_prices(solar_tickers,yearly_max_df,\"Solar\")\n",
    "plot_max_prices(hydrogen_tickers,yearly_max_df,\"Hydrogen\")\n",
    "plot_max_prices(wind_tickers,yearly_max_df,\"Wind\")"
   ]
  },
  {
   "cell_type": "code",
   "execution_count": null,
   "metadata": {},
   "outputs": [],
   "source": [
    "#Yearly Average stock price for each sector\n",
    "yearly_average_sector = []\n",
    "for types in ordered_data_df[\"Type\"].unique():\n",
    "    starting_year = ordered_data_df[ordered_data_df[\"Type\"] == types][\"Date\"].min().strftime('%Y')\n",
    "    for year in range(int(starting_year), 2025):\n",
    "        years = ordered_data_df[\"Date\"].dt.strftime('%Y')\n",
    "        average = ordered_data_df.loc[(ordered_data_df[\"Type\"] == types) & (years == str(year)), \"Closing Price\"].mean()\n",
    "        yearly_average_sector.append({\"Type\":types,\n",
    "                                \"Year\":year,\n",
    "                                \"Avg. Closing Price\":average,})\n",
    "\n",
    "yearly_avg_sector_df = pd.DataFrame(yearly_average_sector)\n",
    "yearly_avg_sector_df"
   ]
  },
  {
   "cell_type": "code",
   "execution_count": null,
   "metadata": {},
   "outputs": [],
   "source": [
    "#Yearly Max stock price for each sector\n",
    "yearly_max_sector = []\n",
    "for types in ordered_data_df[\"Type\"].unique():\n",
    "    starting_year = ordered_data_df[ordered_data_df[\"Type\"] == types][\"Date\"].min().strftime('%Y')\n",
    "    for year in range(int(starting_year), 2025):\n",
    "        years = ordered_data_df[\"Date\"].dt.strftime('%Y')\n",
    "        max = ordered_data_df.loc[(ordered_data_df[\"Type\"] == types) & (years == str(year)), \"Closing Price\"].max()\n",
    "        yearly_max_sector.append({\"Type\":types,\n",
    "                                \"Year\":year,\n",
    "                                \"Max Closing Price\":max,})\n",
    "\n",
    "yearly_max_sector_df = pd.DataFrame(yearly_max_sector)\n",
    "yearly_max_sector_df"
   ]
  },
  {
   "cell_type": "code",
   "execution_count": null,
   "metadata": {},
   "outputs": [],
   "source": [
    "#Plot Avg and Max yearly stock prices by sector\n",
    "plot_avg_type_prices([\"Wind\", \"Hydrogen\", \"Solar\"],yearly_avg_sector_df)\n",
    "plot_max_type_prices([\"Wind\", \"Hydrogen\", \"Solar\"],yearly_max_sector_df)"
   ]
  }
 ],
 "metadata": {
  "kernelspec": {
   "display_name": "Python 3 (ipykernel)",
   "language": "python",
   "name": "python3"
  },
  "language_info": {
   "codemirror_mode": {
    "name": "ipython",
    "version": 3
   },
   "file_extension": ".py",
   "mimetype": "text/x-python",
   "name": "python",
   "nbconvert_exporter": "python",
   "pygments_lexer": "ipython3",
   "version": "3.10.14"
  }
 },
 "nbformat": 4,
 "nbformat_minor": 2
}
